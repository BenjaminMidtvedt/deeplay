{
 "cells": [
  {
   "cell_type": "code",
   "execution_count": 1,
   "metadata": {},
   "outputs": [],
   "source": [
    "import sys\n",
    "sys.path.insert(0, \"../../../\")"
   ]
  },
  {
   "cell_type": "code",
   "execution_count": 2,
   "metadata": {},
   "outputs": [],
   "source": [
    "import deeplay as dtm\n",
    "import torchvision.transforms as transforms\n",
    "\n",
    "import torch\n",
    "import torch.nn as nn\n",
    "import torchvision\n",
    "import pytorch_lightning as pl"
   ]
  },
  {
   "cell_type": "code",
   "execution_count": 3,
   "metadata": {},
   "outputs": [],
   "source": [
    "# Load the MNIST dataset and normalize it to [-1, 1]\n",
    "\n",
    "mnist = torchvision.datasets.MNIST(\n",
    "    root=\"data\", train=True, download=True, transform=torchvision.transforms.ToTensor()\n",
    ")\n",
    "\n",
    "mnist_test = torchvision.datasets.MNIST(\n",
    "    root=\"data\", train=False, download=True, transform=torchvision.transforms.ToTensor()\n",
    ")"
   ]
  },
  {
   "cell_type": "code",
   "execution_count": 4,
   "metadata": {},
   "outputs": [],
   "source": [
    "mnist_dataloader = torch.utils.data.DataLoader(mnist, batch_size=32, num_workers=4)\n",
    "mnist_test_dataloader = torch.utils.data.DataLoader(mnist_test, batch_size=32, num_workers=4)"
   ]
  },
  {
   "cell_type": "code",
   "execution_count": 5,
   "metadata": {},
   "outputs": [],
   "source": [
    "\n",
    "def generate_examples(model, latent_range, n=5):\n",
    "    import matplotlib.pyplot as plt\n",
    "    import numpy as np\n",
    "    import torchvision\n",
    "    import torch\n",
    "    plt.figure(figsize=(10, 10))\n",
    "    x = np.linspace(latent_range[0][0], latent_range[1][0], n)\n",
    "    y = np.linspace(latent_range[0][1], latent_range[1][1], n)\n",
    "\n",
    "    xx, yy = np.meshgrid(x, y)\n",
    "    xx = torch.tensor(xx).float()\n",
    "    yy = torch.tensor(yy).float()\n",
    "    z = torch.stack([xx, yy], dim=-1).view(-1, 2)\n",
    "    yhat = model.decode(z).detach().cpu().numpy()\n",
    "\n",
    "    for i in range(n ** 2):\n",
    "        plt.subplot(n, n, i + 1)\n",
    "        plt.imshow(yhat[i].transpose((1, 2, 0)), cmap=\"Greys_r\")\n",
    "        plt.axis(\"off\")\n",
    "\n",
    "    plt.tight_layout()\n",
    "\n",
    "\n",
    "    "
   ]
  },
  {
   "cell_type": "code",
   "execution_count": 6,
   "metadata": {},
   "outputs": [],
   "source": [
    "\n",
    "\n",
    "def scatterplot(model, testset):\n",
    "    import matplotlib.pyplot as plt\n",
    "    import numpy as np\n",
    "    import torchvision\n",
    "    import torch\n",
    "\n",
    "    xy = torch.zeros((len(testset) * 32, 2))\n",
    "    test_classes = torch.zeros((len(testset) * 32))\n",
    "\n",
    "    i0 = 0\n",
    "    for i, (x, y) in enumerate(testset):\n",
    "        yhat = model.encode(x.view(-1, 1, 28, 28)).detach().cpu()\n",
    "        xy[i:i + len(yhat)] = yhat\n",
    "        test_classes[i:i + len(yhat)] = y.cpu().view(-1)\n",
    "\n",
    "    latent_range = (\n",
    "        xy.min(dim=0)[0],\n",
    "        xy.max(dim=0)[0],\n",
    "    )\n",
    "   \n",
    "    plt.figure(figsize=(10, 10))\n",
    "    plt.scatter(xy[:, 0], xy[:, 1], c=test_classes, cmap=\"jet\")\n",
    "    plt.colorbar()\n",
    "    plt.tight_layout()\n",
    "    plt.show()\n",
    "\n",
    "    return latent_range"
   ]
  },
  {
   "cell_type": "code",
   "execution_count": 8,
   "metadata": {},
   "outputs": [
    {
     "data": {
      "text/plain": [
       "Autoencoder(\n",
       "  (encoder): ImageToImageEncoder(\n",
       "    (blocks): ModuleList(\n",
       "      (0): Template(\n",
       "        (layer): Conv2d(1, 8, kernel_size=(3, 3), stride=(1, 1), padding=(1, 1))\n",
       "        (activation): ReLU()\n",
       "        (pool): MaxPool2d(kernel_size=2, stride=2, padding=0, dilation=1, ceil_mode=False)\n",
       "      )\n",
       "      (1): Template(\n",
       "        (layer): Conv2d(8, 16, kernel_size=(3, 3), stride=(1, 1), padding=(1, 1))\n",
       "        (activation): ReLU()\n",
       "        (pool): MaxPool2d(kernel_size=2, stride=2, padding=0, dilation=1, ceil_mode=False)\n",
       "      )\n",
       "    )\n",
       "    (output): Identity()\n",
       "  )\n",
       "  (bottleneck): Bottleneck(\n",
       "    (flatten): Flatten(start_dim=1, end_dim=-1)\n",
       "    (layer): Linear(in_features=784, out_features=2, bias=True)\n",
       "    (activation): Identity()\n",
       "  )\n",
       "  (decoder): SpatialBroadcastDecoder2d(\n",
       "    (input): Identity()\n",
       "    (encoding): PositionalEncodingLinear2d()\n",
       "    (blocks): ModuleList(\n",
       "      (0): Template(\n",
       "        (layer): Conv2d(4, 128, kernel_size=(1, 1), stride=(1, 1))\n",
       "        (activation): ReLU()\n",
       "      )\n",
       "      (1): Template(\n",
       "        (layer): Conv2d(128, 128, kernel_size=(1, 1), stride=(1, 1))\n",
       "        (activation): ReLU()\n",
       "      )\n",
       "    )\n",
       "  )\n",
       "  (head): ImageRegressionHead(\n",
       "    (output): Template(\n",
       "      (layer): Conv2d(128, 1, kernel_size=(1, 1), stride=(1, 1))\n",
       "      (activation): Sigmoid()\n",
       "    )\n",
       "  )\n",
       "  (loss): MSELoss()\n",
       ")"
      ]
     },
     "execution_count": 8,
     "metadata": {},
     "output_type": "execute_result"
    }
   ],
   "source": [
    "autoencoder = dtm.Autoencoder()\n",
    "autoencoder(torch.randn(1, 1, 28, 28))\n",
    "autoencoder"
   ]
  },
  {
   "cell_type": "code",
   "execution_count": 7,
   "metadata": {},
   "outputs": [
    {
     "name": "stderr",
     "output_type": "stream",
     "text": [
      "c:\\Users\\GU\\AppData\\Local\\Programs\\Python\\Python310\\lib\\site-packages\\torch\\functional.py:504: UserWarning: torch.meshgrid: in an upcoming release, it will be required to pass the indexing argument. (Triggered internally at ..\\aten\\src\\ATen\\native\\TensorShape.cpp:3191.)\n",
      "  return _VF.meshgrid(tensors, **kwargs)  # type: ignore[attr-defined]\n"
     ]
    },
    {
     "data": {
      "text/plain": [
       "VariationalAutoencoder(\n",
       "  (encoder): ImageToImageEncoder(\n",
       "    (blocks): ModuleList(\n",
       "      (0): Template(\n",
       "        (layer): Conv2d(1, 8, kernel_size=(3, 3), stride=(1, 1), padding=(1, 1))\n",
       "        (activation): ReLU()\n",
       "        (pool): MaxPool2d(kernel_size=2, stride=2, padding=0, dilation=1, ceil_mode=False)\n",
       "      )\n",
       "      (1): Template(\n",
       "        (layer): Conv2d(8, 16, kernel_size=(3, 3), stride=(1, 1), padding=(1, 1))\n",
       "        (activation): ReLU()\n",
       "        (pool): MaxPool2d(kernel_size=2, stride=2, padding=0, dilation=1, ceil_mode=False)\n",
       "      )\n",
       "    )\n",
       "    (output): Identity()\n",
       "  )\n",
       "  (bottleneck): VariationalBottleneck(\n",
       "    (flatten): Flatten(start_dim=1, end_dim=-1)\n",
       "    (layer): Linear(in_features=784, out_features=4, bias=True)\n",
       "    (samplers): ModuleList(\n",
       "      (0): NormalDistribtionSampler(\n",
       "        (loc): Identity()\n",
       "      )\n",
       "      (1): NormalDistribtionSampler(\n",
       "        (loc): Identity()\n",
       "      )\n",
       "    )\n",
       "    (activation): Identity()\n",
       "  )\n",
       "  (decoder): SpatialBroadcastDecoder2d(\n",
       "    (input): Identity()\n",
       "    (encoding): PositionalEncodingLinear2d()\n",
       "    (blocks): ModuleList(\n",
       "      (0): Template(\n",
       "        (layer): Conv2d(4, 128, kernel_size=(1, 1), stride=(1, 1))\n",
       "        (activation): ReLU()\n",
       "      )\n",
       "      (1): Template(\n",
       "        (layer): Conv2d(128, 128, kernel_size=(1, 1), stride=(1, 1))\n",
       "        (activation): ReLU()\n",
       "      )\n",
       "    )\n",
       "  )\n",
       "  (head): ImageRegressionHead(\n",
       "    (output): Template(\n",
       "      (layer): Conv2d(128, 1, kernel_size=(1, 1), stride=(1, 1))\n",
       "      (activation): Sigmoid()\n",
       "    )\n",
       "  )\n",
       "  (loss): MSELoss()\n",
       ")"
      ]
     },
     "execution_count": 7,
     "metadata": {},
     "output_type": "execute_result"
    }
   ],
   "source": [
    "trainer = pl.Trainer(max_epochs=10, accelerator=\"cuda\")\n",
    "trainer.fit(autoencoder, mnist_dataloader, mnist_test_dataloader)\n",
    "trainer.test(dataloaders=mnist_test_dataloader)"
   ]
  },
  {
   "cell_type": "code",
   "execution_count": null,
   "metadata": {},
   "outputs": [],
   "source": [
    "latent_range = scatterplot(autoencoder, mnist_test_dataloader)\n",
    "generate_examples(autoencoder, latent_range, n=10)"
   ]
  }
 ],
 "metadata": {
  "kernelspec": {
   "display_name": "Python 3 (ipykernel)",
   "language": "python",
   "name": "python3"
  },
  "language_info": {
   "codemirror_mode": {
    "name": "ipython",
    "version": 3
   },
   "file_extension": ".py",
   "mimetype": "text/x-python",
   "name": "python",
   "nbconvert_exporter": "python",
   "pygments_lexer": "ipython3",
   "version": "3.10.5"
  }
 },
 "nbformat": 4,
 "nbformat_minor": 2
}
