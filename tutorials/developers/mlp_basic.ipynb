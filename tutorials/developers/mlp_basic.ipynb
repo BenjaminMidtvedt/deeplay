{
 "cells": [
  {
   "cell_type": "code",
   "execution_count": null,
   "metadata": {},
   "outputs": [],
   "source": [
    "import deeplay as dl\n",
    "import torch.nn as nn\n",
    "\n",
    "# minimal MLP\n",
    "\n",
    "class MultiLayerPerceptron(dl.DeeplayModule):\n",
    "\n",
    "    def __init__(self, in_features, hidden_features, out_features):\n",
    "        super().__init__()\n",
    "        \n",
    "        in_features_per_layer = [in_features, *hidden_features]\n",
    "        out_features_per_layer = [*hidden_features, out_features]\n",
    "\n",
    "        self.blocks = dl.LayerList()\n",
    "        for in_features, out_features in zip(in_features_per_layer, out_features_per_layer):\n",
    "            self.blocks.append(\n",
    "                dl.LayerActivationBlock(\n",
    "                    dl.Layer(nn.Linear, in_features, out_features),\n",
    "                    dl.Layer(nn.ReLU)\n",
    "                )\n",
    "            )\n",
    "\n",
    "    def forward(self, x):\n",
    "        for block in self.blocks:\n",
    "            x = block(x)\n",
    "\n",
    "        return x\n",
    "    \n",
    "mlp = MultiLayerPerceptron(2, [32, 32], 2)"
   ]
  },
  {
   "cell_type": "code",
   "execution_count": null,
   "metadata": {},
   "outputs": [],
   "source": [
    "# Minimal classifier\n",
    "import torchmetrics as tm\n",
    "\n",
    "class Classifier(dl.Application):\n",
    "\n",
    "    def __init__(self, model, **kwargs):\n",
    "        self.model = model\n",
    "        super().__init__(**kwargs)\n",
    "        \n",
    "        \n",
    "    def forward(self, x):\n",
    "        return self.model(x)\n",
    "    \n",
    "classifier = Classifier(\n",
    "    mlp, \n",
    "    loss=nn.CrossEntropyLoss(), \n",
    "    optimizer=dl.Adam(lr=1e-3), \n",
    "    metrics=[tm.Accuracy(\"multiclass\", num_classes=2)]\n",
    ")\n",
    "\n",
    "classifier.model.blocks[-1].activation.configure(nn.Identity)\n",
    "classifier.build()"
   ]
  },
  {
   "cell_type": "code",
   "execution_count": null,
   "metadata": {},
   "outputs": [],
   "source": [
    "# example:\n",
    "\n",
    "import torch\n",
    "n_samples = 10000\n",
    "train_data = torch.rand(n_samples, 2)\n",
    "train_labels = (train_data.sum(dim=1) > 1).long()\n",
    "\n",
    "dataset = torch.utils.data.TensorDataset(train_data, train_labels)\n",
    "train, val = torch.utils.data.random_split(dataset, [0.8, 0.2])\n",
    "\n",
    "train_dataloader = torch.utils.data.DataLoader(train, batch_size=16, shuffle=True)\n",
    "val_dataloader = torch.utils.data.DataLoader(val, batch_size=16, shuffle=False)\n",
    "\n",
    "trainer = dl.Trainer(max_epochs=10)\n",
    "\n",
    "trainer.fit(classifier, train_dataloader, val_dataloader)\n",
    "trainer.test(classifier, val_dataloader)"
   ]
  }
 ],
 "metadata": {
  "kernelspec": {
   "display_name": "Python 3",
   "language": "python",
   "name": "python3"
  },
  "language_info": {
   "codemirror_mode": {
    "name": "ipython",
    "version": 3
   },
   "file_extension": ".py",
   "mimetype": "text/x-python",
   "name": "python",
   "nbconvert_exporter": "python",
   "pygments_lexer": "ipython3",
   "version": "3.10.5"
  }
 },
 "nbformat": 4,
 "nbformat_minor": 2
}
