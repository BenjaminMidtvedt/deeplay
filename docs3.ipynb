{
 "cells": [
  {
   "cell_type": "markdown",
   "metadata": {},
   "source": [
    "# Components\n",
    "\n",
    "Components are usually constructed by combining multiple blocks. As opposed to models, they don't have a default architecture. Instead, the architecture (including the number of features in each layer) is passed as arguments to the constructor. This makes components more flexible than models, but also more complex to use. Models are usually constructed by combining multiple components.\n",
    "\n"
   ]
  },
  {
   "cell_type": "markdown",
   "metadata": {},
   "source": [
    "## Available components\n",
    "\n",
    "### MultiLayerPerceptron"
   ]
  },
  {
   "cell_type": "code",
   "execution_count": 2,
   "metadata": {},
   "outputs": [
    {
     "name": "stdout",
     "output_type": "stream",
     "text": [
      "MultiLayerPerceptron(\n",
      "  (blocks): LayerList(\n",
      "    (0): LinearBlock(\n",
      "      (layer): Layer[Linear](in_features=10, out_features=20, bias=True)\n",
      "      (activation): Layer[ReLU]()\n",
      "    )\n",
      "    (1): LinearBlock(\n",
      "      (layer): Layer[Linear](in_features=20, out_features=30, bias=True)\n",
      "      (activation): Layer[ReLU]()\n",
      "    )\n",
      "    (2): LinearBlock(\n",
      "      (layer): Layer[Linear](in_features=30, out_features=40, bias=True)\n",
      "      (activation): Layer[ReLU]()\n",
      "    )\n",
      "    (3): LinearBlock(\n",
      "      (layer): Layer[Linear](in_features=40, out_features=5, bias=True)\n",
      "      (activation): Layer[Tanh]()\n",
      "    )\n",
      "  )\n",
      ")\n"
     ]
    }
   ],
   "source": [
    "import deeplay as dl\n",
    "import torch.nn as nn\n",
    "\n",
    "mlp = dl.MultiLayerPerceptron(\n",
    "    in_features=10,\n",
    "    hidden_features=[20, 30, 40],\n",
    "    out_features=5,\n",
    "    out_activation=dl.torch.nn.Tanh,\n",
    ")\n",
    "\n",
    "print(mlp)"
   ]
  },
  {
   "cell_type": "markdown",
   "metadata": {},
   "source": [
    "### ConvolutionalNeuralNetwork"
   ]
  },
  {
   "cell_type": "code",
   "execution_count": 3,
   "metadata": {},
   "outputs": [
    {
     "name": "stdout",
     "output_type": "stream",
     "text": [
      "ConvolutionalNeuralNetwork(\n",
      "  (blocks): LayerList(\n",
      "    (0): Conv2dBlock(\n",
      "      (layer): Layer[Conv2d](in_channels=3, out_channels=16, kernel_size=3, stride=1, padding=1)\n",
      "      (activation): Layer[ReLU]()\n",
      "      (normalization): Layer[BatchNorm2d](num_features=16)\n",
      "    )\n",
      "    (1): Conv2dBlock(\n",
      "      (pool): Layer[MaxPool2d](kernel_size=2)\n",
      "      (layer): Layer[Conv2d](in_channels=16, out_channels=32, kernel_size=3, stride=1, padding=1)\n",
      "      (activation): Layer[ReLU]()\n",
      "      (normalization): Layer[BatchNorm2d](num_features=32)\n",
      "    )\n",
      "    (2): Conv2dBlock(\n",
      "      (pool): Layer[MaxPool2d](kernel_size=2)\n",
      "      (layer): Layer[Conv2d](in_channels=32, out_channels=64, kernel_size=3, stride=1, padding=1)\n",
      "      (activation): Layer[ReLU]()\n",
      "      (normalization): Layer[BatchNorm2d](num_features=64)\n",
      "    )\n",
      "    (3): Conv2dBlock(\n",
      "      (pool): Layer[MaxPool2d](kernel_size=2)\n",
      "      (layer): Layer[Conv2d](in_channels=64, out_channels=10, kernel_size=3, stride=1, padding=1)\n",
      "      (activation): Layer[Tanh]()\n",
      "      (normalization): Layer[BatchNorm2d](num_features=10)\n",
      "    )\n",
      "  )\n",
      ")\n"
     ]
    }
   ],
   "source": [
    "cnn = dl.ConvolutionalNeuralNetwork(\n",
    "    in_channels=3,\n",
    "    hidden_channels=[16, 32, 64],\n",
    "    out_channels=10,\n",
    "    out_activation=dl.torch.nn.Tanh,\n",
    "    pool=dl.Layer(nn.MaxPool2d, kernel_size=2),\n",
    ")\n",
    "\n",
    "cnn.normalized(\n",
    "    dl.Layer(nn.BatchNorm2d),\n",
    "    after_last_layer=True,\n",
    "    mode=\"append\"\n",
    ")\n",
    "\n",
    "print(cnn)"
   ]
  },
  {
   "cell_type": "code",
   "execution_count": 4,
   "metadata": {},
   "outputs": [
    {
     "name": "stdout",
     "output_type": "stream",
     "text": [
      "ConvolutionalEncoder2d(\n",
      "  (blocks): LayerList(\n",
      "    (0): Conv2dBlock(\n",
      "      (layer): Layer[Conv2d](in_channels=3, out_channels=16, kernel_size=3, stride=2, padding=1)\n",
      "      (activation): Layer[ReLU]()\n",
      "    )\n",
      "    (1): Conv2dBlock(\n",
      "      (layer): Layer[Conv2d](in_channels=16, out_channels=32, kernel_size=3, stride=2, padding=1)\n",
      "      (activation): Layer[ReLU]()\n",
      "    )\n",
      "    (2): Conv2dBlock(\n",
      "      (layer): Layer[Conv2d](in_channels=32, out_channels=64, kernel_size=3, stride=2, padding=1)\n",
      "      (activation): Layer[ReLU]()\n",
      "    )\n",
      "    (3): Conv2dBlock(\n",
      "      (layer): Layer[Conv2d](in_channels=64, out_channels=10, kernel_size=3, stride=2, padding=1)\n",
      "      (activation): Layer[Tanh]()\n",
      "    )\n",
      "  )\n",
      "  (postprocess): Layer[Identity]()\n",
      ")\n"
     ]
    }
   ],
   "source": [
    "encoder = dl.ConvolutionalEncoder2d(\n",
    "    in_channels=3,\n",
    "    hidden_channels=[16, 32, 64],\n",
    "    out_channels=10,\n",
    "    out_activation=dl.torch.nn.Tanh,\n",
    ")\n",
    "\n",
    "encoder.strided(stride=2, apply_to_first_layer=True, apply_to_last_layer=True)\n",
    "print(encoder)"
   ]
  },
  {
   "cell_type": "code",
   "execution_count": 5,
   "metadata": {},
   "outputs": [
    {
     "name": "stdout",
     "output_type": "stream",
     "text": [
      "ConvolutionalDecoder2d(\n",
      "  (blocks): LayerList(\n",
      "    (0): Conv2dBlock(\n",
      "      (layer): Layer[Conv2d](in_channels=10, out_channels=64, kernel_size=3, stride=1, padding=1)\n",
      "      (activation): Layer[ReLU]()\n",
      "      (upsample): Layer[Upsample](scale_factor=2)\n",
      "    )\n",
      "    (1): Conv2dBlock(\n",
      "      (layer): Layer[Conv2d](in_channels=64, out_channels=32, kernel_size=3, stride=1, padding=1)\n",
      "      (activation): Layer[ReLU]()\n",
      "      (upsample): Layer[Upsample](scale_factor=2)\n",
      "    )\n",
      "    (2): Conv2dBlock(\n",
      "      (layer): Layer[Conv2d](in_channels=32, out_channels=16, kernel_size=3, stride=1, padding=1)\n",
      "      (activation): Layer[ReLU]()\n",
      "      (upsample): Layer[Upsample](scale_factor=2)\n",
      "    )\n",
      "    (3): Conv2dBlock(\n",
      "      (layer): Layer[Conv2d](in_channels=16, out_channels=3, kernel_size=3, stride=1, padding=1)\n",
      "      (activation): Layer[Tanh]()\n",
      "      (upsample): Layer[Upsample](scale_factor=2)\n",
      "    )\n",
      "  )\n",
      "  (preprocess): Layer[Identity]()\n",
      ")\n"
     ]
    }
   ],
   "source": [
    "decoder = dl.ConvolutionalDecoder2d(\n",
    "    in_channels=10,\n",
    "    hidden_channels=[64, 32, 16],\n",
    "    out_channels=3,\n",
    "    out_activation=dl.torch.nn.Tanh,\n",
    ")\n",
    "\n",
    "decoder.upsampled(\n",
    "    dl.Layer(nn.Upsample, scale_factor=2),\n",
    "    apply_to_last_layer=True, \n",
    ")\n",
    "\n",
    "print(decoder)"
   ]
  },
  {
   "cell_type": "code",
   "execution_count": 6,
   "metadata": {},
   "outputs": [
    {
     "name": "stdout",
     "output_type": "stream",
     "text": [
      "RecurrentNeuralNetwork(\n",
      "  (blocks): LayerList(\n",
      "    (0): Sequence1dBlock(\n",
      "      (layer): Layer[LSTM](input_size=10, hidden_size=20, batch_first=True)\n",
      "    )\n",
      "    (1): Sequence1dBlock(\n",
      "      (layer): Layer[LSTM](input_size=20, hidden_size=30, batch_first=True)\n",
      "    )\n",
      "    (2): Sequence1dBlock(\n",
      "      (layer): Layer[LSTM](input_size=30, hidden_size=40, batch_first=True)\n",
      "    )\n",
      "    (3): Sequence1dBlock(\n",
      "      (layer): Layer[LSTM](input_size=40, hidden_size=5, batch_first=True)\n",
      "    )\n",
      "  )\n",
      ")\n"
     ]
    }
   ],
   "source": [
    "rnn = dl.RecurrentNeuralNetwork(\n",
    "    in_features=10,\n",
    "    hidden_features=[20, 30, 40],\n",
    "    out_features=5,\n",
    "    batch_first=True,\n",
    "    return_cell_state=False,\n",
    ")\n",
    "\n",
    "print(rnn)"
   ]
  },
  {
   "cell_type": "markdown",
   "metadata": {},
   "source": [
    "# Blocks\n",
    "\n",
    "Blocks are the most versatile part of deeplay. They are designed to be be transformed from a base block to any other block that accepts the same input tensor shape and returns the same output tensor shape. We'll show how to do this in the next section."
   ]
  },
  {
   "cell_type": "markdown",
   "metadata": {},
   "source": [
    "## LinearBlock"
   ]
  },
  {
   "cell_type": "code",
   "execution_count": 7,
   "metadata": {},
   "outputs": [
    {
     "name": "stdout",
     "output_type": "stream",
     "text": [
      "LinearBlock(\n",
      "  (layer): Layer[Linear](in_features=4, out_features=10, bias=True)\n",
      ")\n",
      "LinearBlock(\n",
      "  (layer): Layer[Linear](in_features=4, out_features=10, bias=True)\n",
      "  (activation): Layer[ReLU]()\n",
      ")\n",
      "LinearBlock(\n",
      "  (layer): Layer[Linear](in_features=4, out_features=10, bias=True)\n",
      "  (normalization): Layer[LayerNorm](normalized_shape=10)\n",
      "  (activation): Layer[ReLU]()\n",
      ")\n",
      "LinearBlock(\n",
      "  (shortcut_start): Layer[Identity]()\n",
      "  (layer): Layer[Linear](in_features=4, out_features=10, bias=True)\n",
      "  (normalization): Layer[LayerNorm](normalized_shape=10)\n",
      "  (activation): Layer[ReLU]()\n",
      "  (shortcut_end): Add()\n",
      ")\n",
      "LinearBlock(\n",
      "  (shortcut_start): Layer[Identity]()\n",
      "  (layer): Layer[Linear](in_features=4, out_features=10, bias=True)\n",
      "  (normalization): Layer[LayerNorm](normalized_shape=10)\n",
      "  (activation): Layer[ReLU]()\n",
      "  (shortcut_end): Add()\n",
      "  (dropout): Layer[Dropout](p=0.2)\n",
      ")\n"
     ]
    }
   ],
   "source": [
    "block = dl.LinearBlock(4, 10)\n",
    "print(block)\n",
    "\n",
    "block.activated(nn.ReLU)\n",
    "print(block)\n",
    "\n",
    "block.normalized(nn.LayerNorm, mode=\"insert\", after=\"layer\")\n",
    "print(block)\n",
    "\n",
    "block.shortcut()\n",
    "print(block)\n",
    "\n",
    "block.set_dropout(0.2)\n",
    "print(block)\n"
   ]
  },
  {
   "cell_type": "code",
   "execution_count": 8,
   "metadata": {},
   "outputs": [
    {
     "name": "stdout",
     "output_type": "stream",
     "text": [
      "LinearBlock(\n",
      "  (layer): Layer[Linear](in_features=4, out_features=10, bias=True)\n",
      ")\n",
      "LinearBlock(\n",
      "  (blocks): Sequential(\n",
      "    (0): LinearBlock(\n",
      "      (layer): Layer[Linear](in_features=4, out_features=10, bias=True)\n",
      "    )\n",
      "    (1): LinearBlock(\n",
      "      (layer): Layer[Linear](in_features=4, out_features=10, bias=True)\n",
      "    )\n",
      "  )\n",
      ")\n",
      "LinearBlock(\n",
      "  (blocks): Sequential(\n",
      "    (0): LinearBlock(\n",
      "      (shortcut_start): Layer[Identity]()\n",
      "      (layer): Layer[Linear](in_features=4, out_features=10, bias=True)\n",
      "      (normalization): Layer[LayerNorm](normalized_shape=10)\n",
      "      (activation): Layer[ReLU]()\n",
      "      (shortcut_end): Add()\n",
      "    )\n",
      "    (1): LinearBlock(\n",
      "      (shortcut_start): Layer[Identity]()\n",
      "      (layer): Layer[Linear](in_features=4, out_features=10, bias=True)\n",
      "      (normalization): Layer[LayerNorm](normalized_shape=10)\n",
      "      (activation): Layer[ReLU]()\n",
      "      (shortcut_end): Add()\n",
      "    )\n",
      "  )\n",
      ")\n",
      "LinearBlock(\n",
      "  (blocks): Sequential(\n",
      "    (0): LinearBlock(\n",
      "      (shortcut_start): Layer[Identity]()\n",
      "      (layer): Layer[Linear](in_features=4, out_features=10, bias=True)\n",
      "      (normalization): Layer[LayerNorm](normalized_shape=10)\n",
      "      (activation): Layer[ReLU]()\n",
      "      (shortcut_end): Add()\n",
      "    )\n",
      "    (1): LinearBlock(\n",
      "      (shortcut_start): Layer[Identity]()\n",
      "      (layer): Layer[Linear](in_features=4, out_features=10, bias=True)\n",
      "      (normalization): Layer[LayerNorm](normalized_shape=10)\n",
      "      (activation): Layer[ReLU]()\n",
      "      (shortcut_end): Add()\n",
      "    )\n",
      "  )\n",
      "  (dropout): Layer[Dropout](p=0.2)\n",
      ")\n"
     ]
    }
   ],
   "source": [
    "block = dl.LinearBlock(4, 10)\n",
    "print(block)\n",
    "\n",
    "block.multi(2)\n",
    "print(block)\n",
    "\n",
    "block[\"blocks\"].all \\\n",
    "    .activated(nn.ReLU) \\\n",
    "    .normalized(nn.LayerNorm, mode=\"insert\", after=\"layer\") \\\n",
    "    .shortcut()\n",
    "print(block)\n",
    "\n",
    "block.set_dropout(0.2)\n",
    "print(block)\n"
   ]
  },
  {
   "cell_type": "markdown",
   "metadata": {},
   "source": [
    "### Conv2dBlock"
   ]
  },
  {
   "cell_type": "code",
   "execution_count": 9,
   "metadata": {},
   "outputs": [
    {
     "name": "stdout",
     "output_type": "stream",
     "text": [
      "Conv2dBlock(\n",
      "  (layer): Layer[Conv2d](in_channels=3, out_channels=10, kernel_size=1, stride=1, padding=0)\n",
      ")\n"
     ]
    },
    {
     "data": {
      "text/plain": [
       "Conv2dBlock(\n",
       "  (shortcut_start): Conv2dBlock(\n",
       "    (layer): Layer[Conv2d](in_channels=3, out_channels=10, kernel_size=1, stride=2, padding=0)\n",
       "    (activation): Layer[Identity]()\n",
       "  )\n",
       "  (layer): Layer[Conv2d](in_channels=3, out_channels=10, kernel_size=1, stride=2, padding=0)\n",
       "  (normalization): Layer[LayerNorm](normalized_shape=10)\n",
       "  (activation): Layer[ReLU]()\n",
       "  (shortcut_end): Add()\n",
       ")"
      ]
     },
     "execution_count": 9,
     "metadata": {},
     "output_type": "execute_result"
    }
   ],
   "source": [
    "block = dl.Conv2dBlock(3, 10, kernel_size=1)\n",
    "print(block)\n",
    "\n",
    "block.activated(nn.ReLU) \\\n",
    "    .normalized(nn.LayerNorm, mode=\"insert\", after=\"layer\") \\\n",
    "    .strided(2) \\\n",
    "    .shortcut()"
   ]
  },
  {
   "cell_type": "code",
   "execution_count": 10,
   "metadata": {},
   "outputs": [
    {
     "name": "stdout",
     "output_type": "stream",
     "text": [
      "Conv2dBlock(\n",
      "  (layer): Layer[Conv2d](in_channels=3, out_channels=10, kernel_size=1, stride=1, padding=0)\n",
      "  (upsample): Layer[ConvTranspose2d](kernel_size=2, stride=2, padding=0)\n",
      ")\n",
      "Conv2dBlock(\n",
      "  (pool): Layer[MaxPool2d](kernel_size=2, stride=2)\n",
      "  (layer): Layer[Conv2d](in_channels=3, out_channels=10, kernel_size=1, stride=1, padding=0)\n",
      ")\n"
     ]
    }
   ],
   "source": [
    "block = dl.Conv2dBlock(3, 10, kernel_size=1).upsampled()\n",
    "print(block)\n",
    "\n",
    "block = dl.Conv2dBlock(3, 10, kernel_size=1).pooled()\n",
    "print(block)"
   ]
  },
  {
   "cell_type": "markdown",
   "metadata": {},
   "source": []
  },
  {
   "cell_type": "markdown",
   "metadata": {},
   "source": [
    "### Sequence1dBlock"
   ]
  },
  {
   "cell_type": "code",
   "execution_count": 11,
   "metadata": {},
   "outputs": [
    {
     "name": "stdout",
     "output_type": "stream",
     "text": [
      "Sequence1dBlock(\n",
      "  (layer): Layer[LSTM](input_size=4, hidden_size=10, batch_first=False)\n",
      ")\n",
      "Sequence1dBlock(\n",
      "  (layer): Layer[GRU](input_size=4, hidden_size=10, batch_first=False)\n",
      ")\n",
      "Sequence1dBlock(\n",
      "  (layer): Layer[RNN](input_size=4, hidden_size=10, batch_first=False)\n",
      ")\n"
     ]
    }
   ],
   "source": [
    "block = dl.Sequence1dBlock(4, 10).LSTM()\n",
    "print(block)\n",
    "\n",
    "block = dl.Sequence1dBlock(4, 10).GRU()\n",
    "print(block)\n",
    "\n",
    "block = dl.Sequence1dBlock(4, 10).RNN()\n",
    "print(block)\n"
   ]
  },
  {
   "cell_type": "markdown",
   "metadata": {},
   "source": [
    "## Lower level block methods\n",
    "\n",
    "Blocks work through named layers executed sequentially based on a list containing the layer names. This can be configured directly."
   ]
  },
  {
   "cell_type": "code",
   "execution_count": 12,
   "metadata": {},
   "outputs": [
    {
     "name": "stdout",
     "output_type": "stream",
     "text": [
      "LinearBlock(\n",
      "  (layer): Layer[Linear](in_features=4, out_features=10, bias=True)\n",
      "  (activation): Layer[ReLU]()\n",
      "  (normalization): Layer[BatchNorm1d](num_features=10)\n",
      ")\n",
      "LinearBlock(\n",
      "  (layer): Layer[Linear](in_features=4, out_features=10, bias=True)\n",
      "  (normalization): Layer[BatchNorm1d](num_features=10)\n",
      "  (activation): Layer[ReLU]()\n",
      ")\n"
     ]
    }
   ],
   "source": [
    "block = dl.LinearBlock(4, 10).activated(nn.ReLU).normalized()\n",
    "print(block)\n",
    "\n",
    "block.configure(order=[\"layer\", \"normalization\", \"activation\"])\n",
    "print(block)\n"
   ]
  },
  {
   "cell_type": "markdown",
   "metadata": {},
   "source": [
    "To add a layer to a block, there are a few methods available:\n",
    "- `append`\n",
    "- `prepend`\n",
    "- `insert`\n",
    "- `set`\n",
    "\n",
    "Let's see how to use them.\n",
    "\n",
    "### `append`\n"
   ]
  },
  {
   "cell_type": "code",
   "execution_count": 13,
   "metadata": {},
   "outputs": [
    {
     "name": "stdout",
     "output_type": "stream",
     "text": [
      "Conv2dBlock(\n",
      "  (layer): Layer[Conv2d](in_channels=3, out_channels=10, kernel_size=1, stride=1, padding=0)\n",
      ")\n",
      "Conv2dBlock(\n",
      "  (layer): Layer[Conv2d](in_channels=3, out_channels=10, kernel_size=1, stride=1, padding=0)\n",
      "  (relu): Layer[ReLU]()\n",
      ")\n",
      "Conv2dBlock(\n",
      "  (layer): Layer[Conv2d](in_channels=3, out_channels=10, kernel_size=1, stride=1, padding=0)\n",
      "  (relu): Layer[ReLU]()\n",
      "  (normalization): Layer[LayerNorm]()\n",
      ")\n"
     ]
    }
   ],
   "source": [
    "block = dl.Conv2dBlock(3, 10, kernel_size=1)\n",
    "print(block)\n",
    "\n",
    "block.append(dl.Layer(nn.ReLU))\n",
    "print(block) # The name of the layer is automatically set to \"relu\" based on the class name\n",
    "\n",
    "block.append(dl.Layer(nn.LayerNorm), name=\"normalization\")\n",
    "print(block)"
   ]
  },
  {
   "cell_type": "markdown",
   "metadata": {},
   "source": [
    "### `prepend`"
   ]
  },
  {
   "cell_type": "code",
   "execution_count": 14,
   "metadata": {},
   "outputs": [
    {
     "name": "stdout",
     "output_type": "stream",
     "text": [
      "Conv2dBlock(\n",
      "  (pool): Layer[MaxPool2d](kernel_size=2)\n",
      "  (layer): Layer[Conv2d](in_channels=3, out_channels=10, kernel_size=1, stride=1, padding=0)\n",
      ")\n"
     ]
    }
   ],
   "source": [
    "block = dl.Conv2dBlock(3, 10, kernel_size=1)\n",
    "block.prepend(dl.Layer(nn.MaxPool2d, kernel_size=2), name=\"pool\")\n",
    "print(block)"
   ]
  },
  {
   "cell_type": "markdown",
   "metadata": {},
   "source": [
    "### `insert`"
   ]
  },
  {
   "cell_type": "code",
   "execution_count": 15,
   "metadata": {},
   "outputs": [
    {
     "name": "stdout",
     "output_type": "stream",
     "text": [
      "Conv2dBlock(\n",
      "  (layer): Layer[Conv2d](in_channels=3, out_channels=10, kernel_size=1, stride=1, padding=0)\n",
      "  (normalization): Layer[LayerNorm]()\n",
      "  (activation): Layer[ReLU]()\n",
      ")\n"
     ]
    }
   ],
   "source": [
    "block = dl.Conv2dBlock(3, 10, kernel_size=1).activated(nn.ReLU)\n",
    "block.insert(dl.Layer(nn.LayerNorm), after=\"layer\", name=\"normalization\")\n",
    "print(block)"
   ]
  },
  {
   "cell_type": "markdown",
   "metadata": {},
   "source": [
    "## `set`\n",
    "\n",
    "Unlike previous methods, `set` will replace the layer with the given name if it already exists."
   ]
  },
  {
   "cell_type": "code",
   "execution_count": 16,
   "metadata": {},
   "outputs": [
    {
     "name": "stdout",
     "output_type": "stream",
     "text": [
      "Conv2dBlock(\n",
      "  (layer): Layer[Conv2d](in_channels=3, out_channels=10, kernel_size=1, stride=1, padding=0)\n",
      "  (activation): Layer[ReLU]()\n",
      ")\n",
      "Conv2dBlock(\n",
      "  (layer): Layer[Conv2d](in_channels=3, out_channels=10, kernel_size=1, stride=1, padding=0)\n",
      "  (activation): Layer[ReLU]()\n",
      ")\n"
     ]
    }
   ],
   "source": [
    "block_without_activation = dl.Conv2dBlock(3, 10, kernel_size=1)\n",
    "block_with_activation = dl.Conv2dBlock(3, 10, kernel_size=1).activated(nn.ReLU) \n",
    "\n",
    "block_without_activation.set(\"activation\", nn.ReLU)\n",
    "block_with_activation.set(\"activation\", nn.ReLU)\n",
    "print(block_without_activation)\n",
    "print(block_with_activation)"
   ]
  },
  {
   "cell_type": "markdown",
   "metadata": {},
   "source": [
    "Layers can be removed using the `remove` method, which removes based on the layer name."
   ]
  },
  {
   "cell_type": "code",
   "execution_count": 17,
   "metadata": {},
   "outputs": [
    {
     "name": "stdout",
     "output_type": "stream",
     "text": [
      "Conv2dBlock(\n",
      "  (layer): Layer[Conv2d](in_channels=3, out_channels=10, kernel_size=1, stride=1, padding=0)\n",
      "  (activation): Layer[ReLU]()\n",
      ")\n",
      "Conv2dBlock(\n",
      "  (layer): Layer[Conv2d](in_channels=3, out_channels=10, kernel_size=1, stride=1, padding=0)\n",
      ")\n"
     ]
    }
   ],
   "source": [
    "block = dl.Conv2dBlock(3, 10, kernel_size=1).activated(nn.ReLU)\n",
    "print(block)\n",
    "\n",
    "block.remove(\"activation\")\n",
    "print(block)"
   ]
  },
  {
   "cell_type": "markdown",
   "metadata": {},
   "source": [
    "# Operations\n",
    "\n",
    "Operations are special layers that are implemented in deeplay directly. They are not blocks, but can be used as layers in blocks. They are used to perform operations that are not implemented in PyTorch, such as `Flatten` or `Reshape`."
   ]
  },
  {
   "cell_type": "markdown",
   "metadata": {},
   "source": [
    "## Merge ops"
   ]
  },
  {
   "cell_type": "code",
   "execution_count": 18,
   "metadata": {},
   "outputs": [
    {
     "name": "stdout",
     "output_type": "stream",
     "text": [
      "torch.Size([2, 3, 4, 5])\n",
      "torch.Size([2, 6, 4, 5])\n",
      "torch.Size([2, 3, 4, 5])\n"
     ]
    }
   ],
   "source": [
    "import torch\n",
    "\n",
    "merge_add = dl.ops.Add().build()\n",
    "merge_cat = dl.ops.Cat(dim=1).build()\n",
    "merge_lam = dl.ops.Lambda(lambda x: x[0] + x[1]).build()\n",
    "\n",
    "x = torch.randn(2, 3, 4, 5)\n",
    "y = torch.randn(2, 3, 4, 5)\n",
    "\n",
    "print(merge_add(x, y).shape)\n",
    "print(merge_cat(x, y).shape)\n",
    "print(merge_lam(x, y).shape)"
   ]
  },
  {
   "cell_type": "code",
   "execution_count": 19,
   "metadata": {},
   "outputs": [
    {
     "data": {
      "text/plain": [
       "Conv2dBlock(\n",
       "  (shortcut_start): Conv2dBlock(\n",
       "    (layer): Layer[Conv2d](in_channels=3, out_channels=10, kernel_size=1, stride=1, padding=0)\n",
       "    (activation): Layer[Identity]()\n",
       "  )\n",
       "  (layer): Layer[Conv2d](in_channels=3, out_channels=10, kernel_size=1, stride=1, padding=0)\n",
       "  (activation): Layer[ReLU]()\n",
       "  (shortcut_end): Cat()\n",
       ")"
      ]
     },
     "execution_count": 19,
     "metadata": {},
     "output_type": "execute_result"
    }
   ],
   "source": [
    "block = dl.Conv2dBlock(3, 10, kernel_size=1).activated(nn.ReLU)\n",
    "block.shortcut(merge=merge_cat)"
   ]
  },
  {
   "cell_type": "markdown",
   "metadata": {},
   "source": [
    "### Shape ops"
   ]
  },
  {
   "cell_type": "code",
   "execution_count": 20,
   "metadata": {},
   "outputs": [
    {
     "name": "stdout",
     "output_type": "stream",
     "text": [
      "torch.Size([12, 10])\n",
      "torch.Size([2, 60])\n"
     ]
    }
   ],
   "source": [
    "x = torch.randn(2, 3, 4, 5)\n",
    "\n",
    "reshape = dl.ops.Reshape(-1, 10)\n",
    "reshape_func = dl.ops.Reshape(lambda shape: (shape[0], -1))\n",
    "\n",
    "print(reshape(x).shape)\n",
    "print(reshape_func(x).shape)"
   ]
  },
  {
   "cell_type": "code",
   "execution_count": 21,
   "metadata": {},
   "outputs": [
    {
     "name": "stdout",
     "output_type": "stream",
     "text": [
      "torch.Size([2, 3, 1])\n",
      "torch.Size([2, 3])\n"
     ]
    }
   ],
   "source": [
    "x = torch.randn(2, 1, 3, 1)\n",
    "squeeze = dl.ops.Squeeze(dim=1)\n",
    "squeeze_all = dl.ops.Squeeze()\n",
    "\n",
    "print(squeeze(x).shape)\n",
    "print(squeeze_all(x).shape)\n",
    "\n"
   ]
  },
  {
   "cell_type": "code",
   "execution_count": 22,
   "metadata": {},
   "outputs": [
    {
     "name": "stdout",
     "output_type": "stream",
     "text": [
      "torch.Size([2, 1, 3, 4, 5])\n"
     ]
    }
   ],
   "source": [
    "x = torch.randn(2, 3, 4, 5)\n",
    "unsqueeze = dl.ops.Unsqueeze(dim=1)\n",
    "\n",
    "print(unsqueeze(x).shape)"
   ]
  },
  {
   "cell_type": "code",
   "execution_count": 23,
   "metadata": {},
   "outputs": [
    {
     "name": "stdout",
     "output_type": "stream",
     "text": [
      "torch.Size([2, 12, 5])\n"
     ]
    }
   ],
   "source": [
    "x = torch.randn(2, 3, 4, 5)\n",
    "flatten = dl.ops.Flatten(start_dim=1, end_dim=2)\n",
    "print(flatten(x).shape)\n"
   ]
  },
  {
   "cell_type": "code",
   "execution_count": 24,
   "metadata": {},
   "outputs": [
    {
     "name": "stdout",
     "output_type": "stream",
     "text": [
      "torch.Size([2, 4, 3, 5])\n"
     ]
    }
   ],
   "source": [
    "x = torch.randn(2, 3, 4, 5)\n",
    "permute = dl.ops.Permute(0, 2, 1, 3)\n",
    "print(permute(x).shape)"
   ]
  },
  {
   "cell_type": "markdown",
   "metadata": {},
   "source": [
    "# The configure method\n",
    "\n",
    "The configure method exists on all DeeplayModule classes. It works by changing the input parameters of the constructor of the class, and subsequently re-initializing the class. For `Layer` classes, the configure method will instead affect the constructor argument of the classtype of the layer. For example, `Layer(nn.Conv2d, 8, 8).configure(kernel_size=5)`."
   ]
  },
  {
   "cell_type": "code",
   "execution_count": 25,
   "metadata": {},
   "outputs": [
    {
     "data": {
      "text/plain": [
       "MultiLayerPerceptron(\n",
       "  (blocks): LayerList(\n",
       "    (0): LinearBlock(\n",
       "      (layer): Layer[Linear](in_features=10, out_features=20, bias=True)\n",
       "      (activation): Layer[ReLU]()\n",
       "    )\n",
       "    (1): LinearBlock(\n",
       "      (layer): Layer[Linear](in_features=20, out_features=30, bias=True)\n",
       "      (activation): Layer[ReLU]()\n",
       "    )\n",
       "    (2): LinearBlock(\n",
       "      (layer): Layer[Linear](in_features=30, out_features=40, bias=True)\n",
       "      (activation): Layer[ReLU]()\n",
       "    )\n",
       "    (3): LinearBlock(\n",
       "      (layer): Layer[Linear](in_features=40, out_features=5, bias=True)\n",
       "      (activation): Layer[Tanh]()\n",
       "    )\n",
       "  )\n",
       ")"
      ]
     },
     "execution_count": 25,
     "metadata": {},
     "output_type": "execute_result"
    }
   ],
   "source": [
    "mlp = dl.MultiLayerPerceptron(\n",
    "    in_features=10,\n",
    "    hidden_features=[20, 30, 40],\n",
    "    out_features=5,\n",
    ")\n",
    "\n",
    "mlp.configure(out_activation=nn.Tanh)"
   ]
  },
  {
   "cell_type": "code",
   "execution_count": 26,
   "metadata": {},
   "outputs": [
    {
     "name": "stdout",
     "output_type": "stream",
     "text": [
      "Layer[Conv2d](in_channels=3, out_channels=10, kernel_size=1, stride=2)\n"
     ]
    }
   ],
   "source": [
    "layer = dl.Layer(nn.Conv2d, in_channels=3, out_channels=10, kernel_size=1)\n",
    "layer.configure(stride=2)\n",
    "print(layer)"
   ]
  },
  {
   "cell_type": "markdown",
   "metadata": {},
   "source": [
    "When configuring a Layer, the first positional argument can be used to change the class type of the layer:"
   ]
  },
  {
   "cell_type": "code",
   "execution_count": 27,
   "metadata": {},
   "outputs": [
    {
     "name": "stdout",
     "output_type": "stream",
     "text": [
      "Layer[ReLU]()\n",
      "Layer[LeakyReLU](negative_slope=0.1)\n"
     ]
    }
   ],
   "source": [
    "layer = dl.Layer(nn.ReLU)\n",
    "print(layer)\n",
    "layer.configure(nn.LeakyReLU, negative_slope=0.1)\n",
    "print(layer)"
   ]
  },
  {
   "cell_type": "markdown",
   "metadata": {},
   "source": [
    "# Selections\n",
    "\n",
    "Selections are a way to apply an operation or configuration to multiple classes at once. There is some special syntax, which is easier to understand through examples."
   ]
  },
  {
   "cell_type": "code",
   "execution_count": 28,
   "metadata": {},
   "outputs": [
    {
     "name": "stdout",
     "output_type": "stream",
     "text": [
      "[('encoder',)]\n",
      "[('encoder', 'blocks')]\n",
      "[('encoder',), ('decoder',)]\n",
      "[('encoder',), ('bottleneck',), ('decoder',), ('skip',)]\n",
      "[('encoder', 'blocks', '0', 'layer'), ('encoder', 'blocks', '1', 'layer'), ('bottleneck', 'blocks', '0', 'layer'), ('decoder', 'blocks', '0', 'layer'), ('decoder', 'blocks', '1', 'layer')]\n",
      "[('encoder', 'blocks', '0', 'layer'), ('encoder', 'blocks', '1', 'layer')]\n",
      "[('encoder', 'blocks', '0', 'layer'), ('decoder', 'blocks', '1', 'layer')]\n",
      "UNet2d(\n",
      "  (encoder): ConvolutionalEncoder2d(\n",
      "    (blocks): LayerList(\n",
      "      (0): Conv2dBlock(\n",
      "        (layer): Layer[Conv2d](in_channels=3, out_channels=16, kernel_size=1, stride=1, padding=0)\n",
      "        (activation): Layer[ReLU]()\n",
      "      )\n",
      "      (1): Conv2dBlock(\n",
      "        (pool): Layer[MaxPool2d](kernel_size=2, stride=2)\n",
      "        (layer): Layer[Conv2d](in_channels=16, out_channels=32, kernel_size=3, stride=1, padding=1)\n",
      "        (activation): Layer[ReLU]()\n",
      "      )\n",
      "    )\n",
      "    (postprocess): Layer[Identity]()\n",
      "  )\n",
      "  (bottleneck): ConvolutionalNeuralNetwork(\n",
      "    (blocks): LayerList(\n",
      "      (0): Conv2dBlock(\n",
      "        (pool): Layer[MaxPool2d](kernel_size=2, stride=2)\n",
      "        (layer): Layer[Conv2d](in_channels=32, out_channels=32, kernel_size=3, stride=1, padding=1)\n",
      "        (activation): Layer[ReLU]()\n",
      "        (upsample): Layer[ConvTranspose2d](kernel_size=2, stride=2, padding=0)\n",
      "      )\n",
      "    )\n",
      "  )\n",
      "  (decoder): ConvolutionalDecoder2d(\n",
      "    (blocks): LayerList(\n",
      "      (0): Conv2dBlock(\n",
      "        (layer): Layer[Conv2d](in_channels=64, out_channels=16, kernel_size=3, stride=1, padding=1)\n",
      "        (activation): Layer[ReLU]()\n",
      "        (upsample): Layer[ConvTranspose2d](kernel_size=2, stride=2, padding=0)\n",
      "      )\n",
      "      (1): Conv2dBlock(\n",
      "        (layer): Layer[Conv2d](in_channels=32, out_channels=10, kernel_size=3, stride=1, padding=1)\n",
      "        (activation): Layer[Tanh]()\n",
      "      )\n",
      "    )\n",
      "    (preprocess): Layer[Identity]()\n",
      "  )\n",
      "  (skip): Cat()\n",
      ")\n"
     ]
    }
   ],
   "source": [
    "model = dl.UNet2d(\n",
    "    in_channels=3,\n",
    "    encoder_channels=[16, 32],\n",
    "    out_channels=10,\n",
    "    out_activation=nn.Tanh,\n",
    ")\n",
    "# print(model)\n",
    "\n",
    "# Strings are used to select a direct child\n",
    "print(model[\"encoder\"].list_names())\n",
    "\n",
    "# Multiple strings can be used to select multiple successive children\n",
    "print(model[\"encoder\", \"blocks\"].list_names())\n",
    "\n",
    "# The | operator can be used to select multiple children at the same level\n",
    "print(model[\"encoder|decoder\"].list_names())\n",
    "\n",
    "# The : operator can be used to select all children at the same level\n",
    "print(model[:].list_names())\n",
    "\n",
    "# The ... operator can be used to select select all children at any level\n",
    "print(model[..., \"layer\"].list_names()) # Here, we first select all children at any level, then we select only the children named \"layer\"\n",
    "\n",
    "# The # operator can be used to select a subset of previously selected children\n",
    "print(model[..., \"layer#0:2\"].list_names())\n",
    "\n",
    "# The , operator can be used to select either of multiple selectors\n",
    "print(model[..., \"layer#0, layer#-1\"].list_names())\n",
    "\n",
    "# Lets select the first block of the encoder and change the kernel size\n",
    "model[..., \"layer#0\"].configure(kernel_size=1, padding=0)\n",
    "print(model)"
   ]
  },
  {
   "cell_type": "markdown",
   "metadata": {},
   "source": [
    "The selection can be filtered using the methods:\n",
    "- `filter`\n",
    "- `hasattr`\n",
    "- `isinstance`"
   ]
  },
  {
   "cell_type": "code",
   "execution_count": 29,
   "metadata": {},
   "outputs": [
    {
     "name": "stdout",
     "output_type": "stream",
     "text": [
      "[('encoder',)]\n",
      "[('encoder', 'blocks', '0', 'activation'), ('encoder', 'blocks', '1', 'activation')]\n",
      "[('encoder', 'blocks', '0'), ('encoder', 'blocks', '1'), ('bottleneck', 'blocks', '0'), ('decoder', 'blocks', '0'), ('decoder', 'blocks', '1')]\n",
      "[('encoder', 'blocks', '0'), ('encoder', 'blocks', '1'), ('bottleneck', 'blocks', '0'), ('decoder', 'blocks', '0'), ('decoder', 'blocks', '1')]\n"
     ]
    }
   ],
   "source": [
    "print(model[...].isinstance(dl.ConvolutionalEncoder2d).list_names())\n",
    "print(model[\"encoder\", ...].isinstance(nn.ReLU).list_names())\n",
    "print(model[...].hasattr(\"pool\").list_names()) # TODO: bugged. should not return decoder.\n",
    "print(model[...].hasattr(\"stride\").list_names()) "
   ]
  },
  {
   "cell_type": "markdown",
   "metadata": {},
   "source": [
    "Any method can be applied to the selection, not just `configure`. This will either apply the method to all classes in the selection, or to the first class in the selection. You can choose which one by accessing the `all` or `first` attributes of the selection:"
   ]
  },
  {
   "cell_type": "code",
   "execution_count": 30,
   "metadata": {},
   "outputs": [
    {
     "name": "stdout",
     "output_type": "stream",
     "text": [
      "UNet2d(\n",
      "  (encoder): ConvolutionalEncoder2d(\n",
      "    (blocks): LayerList(\n",
      "      (0): Conv2dBlock(\n",
      "        (layer): Layer[Conv2d](in_channels=3, out_channels=16, kernel_size=5, stride=1, padding=2)\n",
      "        (activation): Layer[Sigmoid]()\n",
      "        (normalization): Layer[BatchNorm2d](num_features=16)\n",
      "      )\n",
      "      (1): Conv2dBlock(\n",
      "        (pool): Layer[MaxPool2d](kernel_size=2, stride=2)\n",
      "        (layer): Layer[Conv2d](in_channels=16, out_channels=32, kernel_size=3, stride=1, padding=1)\n",
      "        (activation): Layer[Sigmoid]()\n",
      "        (normalization): Layer[BatchNorm2d](num_features=32)\n",
      "      )\n",
      "    )\n",
      "    (postprocess): Layer[Identity]()\n",
      "  )\n",
      "  (bottleneck): ConvolutionalNeuralNetwork(\n",
      "    (blocks): LayerList(\n",
      "      (0): Conv2dBlock(\n",
      "        (pool): Layer[MaxPool2d](kernel_size=2, stride=2)\n",
      "        (layer): Layer[Conv2d](in_channels=32, out_channels=32, kernel_size=3, stride=1, padding=1)\n",
      "        (activation): Layer[Sigmoid]()\n",
      "        (upsample): Layer[ConvTranspose2d](kernel_size=2, stride=2, padding=0)\n",
      "        (normalization): Layer[BatchNorm2d](num_features=32)\n",
      "      )\n",
      "    )\n",
      "  )\n",
      "  (decoder): ConvolutionalDecoder2d(\n",
      "    (blocks): LayerList(\n",
      "      (0): Conv2dBlock(\n",
      "        (layer): Layer[Conv2d](in_channels=64, out_channels=16, kernel_size=3, stride=1, padding=1)\n",
      "        (activation): Layer[Sigmoid]()\n",
      "        (upsample): Layer[ConvTranspose2d](kernel_size=2, stride=2, padding=0)\n",
      "        (normalization): Layer[BatchNorm2d](num_features=16)\n",
      "      )\n",
      "      (1): Conv2dBlock(\n",
      "        (layer): Layer[Conv2d](in_channels=32, out_channels=10, kernel_size=3, stride=1, padding=1)\n",
      "        (activation): Layer[Sigmoid]()\n",
      "        (normalization): Layer[BatchNorm2d](num_features=10)\n",
      "      )\n",
      "    )\n",
      "    (preprocess): Layer[Identity]()\n",
      "  )\n",
      "  (skip): Cat()\n",
      ")\n"
     ]
    }
   ],
   "source": [
    "model[..., \"layer\"].first.configure(kernel_size=5, padding=2)\n",
    "model[..., \"activation\"].all.configure(nn.Sigmoid)\n",
    "model[...].isinstance(dl.Conv2dBlock).all.normalized(nn.BatchNorm2d)\n",
    "model[...].isinstance(nn.BatchNorm2d).all.initialize(dl.initializers.Constant(weight=1, bias=0))\n",
    "print(model)"
   ]
  },
  {
   "cell_type": "markdown",
   "metadata": {},
   "source": [
    "# deeplay.vision\n",
    "\n",
    "Does not exist yet."
   ]
  },
  {
   "cell_type": "markdown",
   "metadata": {},
   "source": [
    "# deeplay.language\n",
    "\n",
    "Does not exist yet."
   ]
  },
  {
   "cell_type": "markdown",
   "metadata": {},
   "source": [
    "# deeplay.geometric\n",
    "\n",
    "Does not exist yet."
   ]
  },
  {
   "cell_type": "markdown",
   "metadata": {},
   "source": [
    "# deeplay.activelearning\n",
    "\n",
    "Contains tools for active learning."
   ]
  },
  {
   "cell_type": "code",
   "execution_count": 31,
   "metadata": {},
   "outputs": [
    {
     "data": {
      "text/plain": [
       "<matplotlib.collections.PathCollection at 0x2a9e7751150>"
      ]
     },
     "execution_count": 31,
     "metadata": {},
     "output_type": "execute_result"
    },
    {
     "data": {
      "image/png": "[encoded data removed]",
      "text/plain": [
       "<Figure size 640x480 with 1 Axes>"
      ]
     },
     "metadata": {},
     "output_type": "display_data"
    }
   ],
   "source": [
    "import numpy as np\n",
    "import matplotlib.pyplot as plt\n",
    "\n",
    "cluster1 = np.random.normal(0, 1, (100, 2)) - (2, 0)\n",
    "cluster2 = np.random.normal(0, 1, (100, 2)) + (2, 0)\n",
    "\n",
    "plt.scatter(cluster1[:, 0], cluster1[:, 1])\n",
    "plt.scatter(cluster2[:, 0], cluster2[:, 1])\n"
   ]
  },
  {
   "cell_type": "code",
   "execution_count": 32,
   "metadata": {},
   "outputs": [],
   "source": [
    "net = dl.MultiLayerPerceptron(2, [10], 1, out_activation=nn.Sigmoid)\n",
    "classifier = dl.BinaryClassifier(net)"
   ]
  },
  {
   "cell_type": "code",
   "execution_count": 33,
   "metadata": {},
   "outputs": [
    {
     "data": {
      "text/html": [
       "<pre style=\"white-space:pre;overflow-x:auto;line-height:normal;font-family:Menlo,'DejaVu Sans Mono',consolas,'Courier New',monospace\">┏━━━┳━━━━━━━━━━━━━━━┳━━━━━━━━━━━━━━━━━━┳━━━━━━━━┓\n",
       "┃<span style=\"color: #800080; text-decoration-color: #800080; font-weight: bold\">   </span>┃<span style=\"color: #800080; text-decoration-color: #800080; font-weight: bold\"> Name          </span>┃<span style=\"color: #800080; text-decoration-color: #800080; font-weight: bold\"> Type             </span>┃<span style=\"color: #800080; text-decoration-color: #800080; font-weight: bold\"> Params </span>┃\n",
       "┡━━━╇━━━━━━━━━━━━━━━╇━━━━━━━━━━━━━━━━━━╇━━━━━━━━┩\n",
       "│<span style=\"color: #7f7f7f; text-decoration-color: #7f7f7f\"> 0 </span>│ loss          │ CrossEntropyLoss │      0 │\n",
       "│<span style=\"color: #7f7f7f; text-decoration-color: #7f7f7f\"> 1 </span>│ train_metrics │ MetricCollection │      0 │\n",
       "│<span style=\"color: #7f7f7f; text-decoration-color: #7f7f7f\"> 2 </span>│ val_metrics   │ MetricCollection │      0 │\n",
       "│<span style=\"color: #7f7f7f; text-decoration-color: #7f7f7f\"> 3 </span>│ test_metrics  │ MetricCollection │      0 │\n",
       "│<span style=\"color: #7f7f7f; text-decoration-color: #7f7f7f\"> 4 </span>│ classifier    │ BinaryClassifier │     41 │\n",
       "│<span style=\"color: #7f7f7f; text-decoration-color: #7f7f7f\"> 5 </span>│ optimizer     │ Adam             │      0 │\n",
       "└───┴───────────────┴──────────────────┴────────┘\n",
       "</pre>\n"
      ],
      "text/plain": [
       "┏━━━┳━━━━━━━━━━━━━━━┳━━━━━━━━━━━━━━━━━━┳━━━━━━━━┓\n",
       "┃\u001b[1;35m \u001b[0m\u001b[1;35m \u001b[0m\u001b[1;35m \u001b[0m┃\u001b[1;35m \u001b[0m\u001b[1;35mName         \u001b[0m\u001b[1;35m \u001b[0m┃\u001b[1;35m \u001b[0m\u001b[1;35mType            \u001b[0m\u001b[1;35m \u001b[0m┃\u001b[1;35m \u001b[0m\u001b[1;35mParams\u001b[0m\u001b[1;35m \u001b[0m┃\n",
       "┡━━━╇━━━━━━━━━━━━━━━╇━━━━━━━━━━━━━━━━━━╇━━━━━━━━┩\n",
       "│\u001b[2m \u001b[0m\u001b[2m0\u001b[0m\u001b[2m \u001b[0m│ loss          │ CrossEntropyLoss │      0 │\n",
       "│\u001b[2m \u001b[0m\u001b[2m1\u001b[0m\u001b[2m \u001b[0m│ train_metrics │ MetricCollection │      0 │\n",
       "│\u001b[2m \u001b[0m\u001b[2m2\u001b[0m\u001b[2m \u001b[0m│ val_metrics   │ MetricCollection │      0 │\n",
       "│\u001b[2m \u001b[0m\u001b[2m3\u001b[0m\u001b[2m \u001b[0m│ test_metrics  │ MetricCollection │      0 │\n",
       "│\u001b[2m \u001b[0m\u001b[2m4\u001b[0m\u001b[2m \u001b[0m│ classifier    │ BinaryClassifier │     41 │\n",
       "│\u001b[2m \u001b[0m\u001b[2m5\u001b[0m\u001b[2m \u001b[0m│ optimizer     │ Adam             │      0 │\n",
       "└───┴───────────────┴──────────────────┴────────┘\n"
      ]
     },
     "metadata": {},
     "output_type": "display_data"
    },
    {
     "data": {
      "text/html": [
       "<pre style=\"white-space:pre;overflow-x:auto;line-height:normal;font-family:Menlo,'DejaVu Sans Mono',consolas,'Courier New',monospace\"><span style=\"font-weight: bold\">Trainable params</span>: 41                                                                                               \n",
       "<span style=\"font-weight: bold\">Non-trainable params</span>: 0                                                                                            \n",
       "<span style=\"font-weight: bold\">Total params</span>: 41                                                                                                   \n",
       "<span style=\"font-weight: bold\">Total estimated model params size (MB)</span>: 0                                                                          \n",
       "</pre>\n"
      ],
      "text/plain": [
       "\u001b[1mTrainable params\u001b[0m: 41                                                                                               \n",
       "\u001b[1mNon-trainable params\u001b[0m: 0                                                                                            \n",
       "\u001b[1mTotal params\u001b[0m: 41                                                                                                   \n",
       "\u001b[1mTotal estimated model params size (MB)\u001b[0m: 0                                                                          \n"
      ]
     },
     "metadata": {},
     "output_type": "display_data"
    },
    {
     "data": {
      "application/vnd.jupyter.widget-view+json": {
       "model_id": "3eff27c690ad4de2acba23c72aa517fd",
       "version_major": 2,
       "version_minor": 0
      },
      "text/plain": [
       "Output()"
      ]
     },
     "metadata": {},
     "output_type": "display_data"
    },
    {
     "data": {
      "text/html": [
       "<pre style=\"white-space:pre;overflow-x:auto;line-height:normal;font-family:Menlo,'DejaVu Sans Mono',consolas,'Courier New',monospace\">c:\\Users\\bmidt\\AppData\\Local\\Programs\\Python\\Python310\\lib\\site-packages\\lightning\\pytorch\\utilities\\data.py:104: \n",
       "Total length of `list` across ranks is zero. Please make sure this was your intention.\n",
       "</pre>\n"
      ],
      "text/plain": [
       "c:\\Users\\bmidt\\AppData\\Local\\Programs\\Python\\Python310\\lib\\site-packages\\lightning\\pytorch\\utilities\\data.py:104: \n",
       "Total length of `list` across ranks is zero. Please make sure this was your intention.\n"
      ]
     },
     "metadata": {},
     "output_type": "display_data"
    },
    {
     "data": {
      "text/html": [
       "<pre style=\"white-space:pre;overflow-x:auto;line-height:normal;font-family:Menlo,'DejaVu Sans Mono',consolas,'Courier New',monospace\"></pre>\n"
      ],
      "text/plain": []
     },
     "metadata": {},
     "output_type": "display_data"
    },
    {
     "data": {
      "text/html": [
       "<pre style=\"white-space:pre;overflow-x:auto;line-height:normal;font-family:Menlo,'DejaVu Sans Mono',consolas,'Courier New',monospace\">\n",
       "</pre>\n"
      ],
      "text/plain": [
       "\n"
      ]
     },
     "metadata": {},
     "output_type": "display_data"
    },
    {
     "ename": "AssertionError",
     "evalue": "",
     "output_type": "error",
     "traceback": [
      "\u001b[1;31m---------------------------------------------------------------------------\u001b[0m",
      "\u001b[1;31mAssertionError\u001b[0m                            Traceback (most recent call last)",
      "\u001b[1;32mc:\\Users\\bmidt\\DeepTorch\\docs3.ipynb Cell 58\u001b[0m line \u001b[0;36m2\n\u001b[0;32m     <a href='vscode-notebook-cell:/c%3A/Users/bmidt/DeepTorch/docs3.ipynb#Y105sZmlsZQ%3D%3D?line=17'>18</a>\u001b[0m \u001b[39mfor\u001b[39;00m \u001b[39miter\u001b[39m \u001b[39min\u001b[39;00m \u001b[39mrange\u001b[39m(\u001b[39m10\u001b[39m):\n\u001b[0;32m     <a href='vscode-notebook-cell:/c%3A/Users/bmidt/DeepTorch/docs3.ipynb#Y105sZmlsZQ%3D%3D?line=18'>19</a>\u001b[0m     trainer \u001b[39m=\u001b[39m dl\u001b[39m.\u001b[39mTrainer(max_epochs\u001b[39m=\u001b[39m\u001b[39m10\u001b[39m)\n\u001b[1;32m---> <a href='vscode-notebook-cell:/c%3A/Users/bmidt/DeepTorch/docs3.ipynb#Y105sZmlsZQ%3D%3D?line=19'>20</a>\u001b[0m     trainer\u001b[39m.\u001b[39;49mfit(al_model)\n\u001b[0;32m     <a href='vscode-notebook-cell:/c%3A/Users/bmidt/DeepTorch/docs3.ipynb#Y105sZmlsZQ%3D%3D?line=21'>22</a>\u001b[0m     \u001b[39m# Update the dataset\u001b[39;00m\n\u001b[0;32m     <a href='vscode-notebook-cell:/c%3A/Users/bmidt/DeepTorch/docs3.ipynb#Y105sZmlsZQ%3D%3D?line=22'>23</a>\u001b[0m     al_model\u001b[39m.\u001b[39mquery_and_update(\u001b[39m10\u001b[39m)\n",
      "File \u001b[1;32mc:\\Users\\bmidt\\AppData\\Local\\Programs\\Python\\Python310\\lib\\site-packages\\lightning\\pytorch\\trainer\\trainer.py:544\u001b[0m, in \u001b[0;36mTrainer.fit\u001b[1;34m(self, model, train_dataloaders, val_dataloaders, datamodule, ckpt_path)\u001b[0m\n\u001b[0;32m    542\u001b[0m \u001b[39mself\u001b[39m\u001b[39m.\u001b[39mstate\u001b[39m.\u001b[39mstatus \u001b[39m=\u001b[39m TrainerStatus\u001b[39m.\u001b[39mRUNNING\n\u001b[0;32m    543\u001b[0m \u001b[39mself\u001b[39m\u001b[39m.\u001b[39mtraining \u001b[39m=\u001b[39m \u001b[39mTrue\u001b[39;00m\n\u001b[1;32m--> 544\u001b[0m call\u001b[39m.\u001b[39;49m_call_and_handle_interrupt(\n\u001b[0;32m    545\u001b[0m     \u001b[39mself\u001b[39;49m, \u001b[39mself\u001b[39;49m\u001b[39m.\u001b[39;49m_fit_impl, model, train_dataloaders, val_dataloaders, datamodule, ckpt_path\n\u001b[0;32m    546\u001b[0m )\n",
      "File \u001b[1;32mc:\\Users\\bmidt\\AppData\\Local\\Programs\\Python\\Python310\\lib\\site-packages\\lightning\\pytorch\\trainer\\call.py:44\u001b[0m, in \u001b[0;36m_call_and_handle_interrupt\u001b[1;34m(trainer, trainer_fn, *args, **kwargs)\u001b[0m\n\u001b[0;32m     42\u001b[0m     \u001b[39mif\u001b[39;00m trainer\u001b[39m.\u001b[39mstrategy\u001b[39m.\u001b[39mlauncher \u001b[39mis\u001b[39;00m \u001b[39mnot\u001b[39;00m \u001b[39mNone\u001b[39;00m:\n\u001b[0;32m     43\u001b[0m         \u001b[39mreturn\u001b[39;00m trainer\u001b[39m.\u001b[39mstrategy\u001b[39m.\u001b[39mlauncher\u001b[39m.\u001b[39mlaunch(trainer_fn, \u001b[39m*\u001b[39margs, trainer\u001b[39m=\u001b[39mtrainer, \u001b[39m*\u001b[39m\u001b[39m*\u001b[39mkwargs)\n\u001b[1;32m---> 44\u001b[0m     \u001b[39mreturn\u001b[39;00m trainer_fn(\u001b[39m*\u001b[39margs, \u001b[39m*\u001b[39m\u001b[39m*\u001b[39mkwargs)\n\u001b[0;32m     46\u001b[0m \u001b[39mexcept\u001b[39;00m _TunerExitException:\n\u001b[0;32m     47\u001b[0m     _call_teardown_hook(trainer)\n",
      "File \u001b[1;32mc:\\Users\\bmidt\\AppData\\Local\\Programs\\Python\\Python310\\lib\\site-packages\\lightning\\pytorch\\trainer\\trainer.py:580\u001b[0m, in \u001b[0;36mTrainer._fit_impl\u001b[1;34m(self, model, train_dataloaders, val_dataloaders, datamodule, ckpt_path)\u001b[0m\n\u001b[0;32m    573\u001b[0m \u001b[39massert\u001b[39;00m \u001b[39mself\u001b[39m\u001b[39m.\u001b[39mstate\u001b[39m.\u001b[39mfn \u001b[39mis\u001b[39;00m \u001b[39mnot\u001b[39;00m \u001b[39mNone\u001b[39;00m\n\u001b[0;32m    574\u001b[0m ckpt_path \u001b[39m=\u001b[39m \u001b[39mself\u001b[39m\u001b[39m.\u001b[39m_checkpoint_connector\u001b[39m.\u001b[39m_select_ckpt_path(\n\u001b[0;32m    575\u001b[0m     \u001b[39mself\u001b[39m\u001b[39m.\u001b[39mstate\u001b[39m.\u001b[39mfn,\n\u001b[0;32m    576\u001b[0m     ckpt_path,\n\u001b[0;32m    577\u001b[0m     model_provided\u001b[39m=\u001b[39m\u001b[39mTrue\u001b[39;00m,\n\u001b[0;32m    578\u001b[0m     model_connected\u001b[39m=\u001b[39m\u001b[39mself\u001b[39m\u001b[39m.\u001b[39mlightning_module \u001b[39mis\u001b[39;00m \u001b[39mnot\u001b[39;00m \u001b[39mNone\u001b[39;00m,\n\u001b[0;32m    579\u001b[0m )\n\u001b[1;32m--> 580\u001b[0m \u001b[39mself\u001b[39;49m\u001b[39m.\u001b[39;49m_run(model, ckpt_path\u001b[39m=\u001b[39;49mckpt_path)\n\u001b[0;32m    582\u001b[0m \u001b[39massert\u001b[39;00m \u001b[39mself\u001b[39m\u001b[39m.\u001b[39mstate\u001b[39m.\u001b[39mstopped\n\u001b[0;32m    583\u001b[0m \u001b[39mself\u001b[39m\u001b[39m.\u001b[39mtraining \u001b[39m=\u001b[39m \u001b[39mFalse\u001b[39;00m\n",
      "File \u001b[1;32mc:\\Users\\bmidt\\AppData\\Local\\Programs\\Python\\Python310\\lib\\site-packages\\lightning\\pytorch\\trainer\\trainer.py:989\u001b[0m, in \u001b[0;36mTrainer._run\u001b[1;34m(self, model, ckpt_path)\u001b[0m\n\u001b[0;32m    984\u001b[0m \u001b[39mself\u001b[39m\u001b[39m.\u001b[39m_signal_connector\u001b[39m.\u001b[39mregister_signal_handlers()\n\u001b[0;32m    986\u001b[0m \u001b[39m# ----------------------------\u001b[39;00m\n\u001b[0;32m    987\u001b[0m \u001b[39m# RUN THE TRAINER\u001b[39;00m\n\u001b[0;32m    988\u001b[0m \u001b[39m# ----------------------------\u001b[39;00m\n\u001b[1;32m--> 989\u001b[0m results \u001b[39m=\u001b[39m \u001b[39mself\u001b[39;49m\u001b[39m.\u001b[39;49m_run_stage()\n\u001b[0;32m    991\u001b[0m \u001b[39m# ----------------------------\u001b[39;00m\n\u001b[0;32m    992\u001b[0m \u001b[39m# POST-Training CLEAN UP\u001b[39;00m\n\u001b[0;32m    993\u001b[0m \u001b[39m# ----------------------------\u001b[39;00m\n\u001b[0;32m    994\u001b[0m log\u001b[39m.\u001b[39mdebug(\u001b[39mf\u001b[39m\u001b[39m\"\u001b[39m\u001b[39m{\u001b[39;00m\u001b[39mself\u001b[39m\u001b[39m.\u001b[39m\u001b[39m__class__\u001b[39m\u001b[39m.\u001b[39m\u001b[39m__name__\u001b[39m\u001b[39m}\u001b[39;00m\u001b[39m: trainer tearing down\u001b[39m\u001b[39m\"\u001b[39m)\n",
      "File \u001b[1;32mc:\\Users\\bmidt\\AppData\\Local\\Programs\\Python\\Python310\\lib\\site-packages\\lightning\\pytorch\\trainer\\trainer.py:1033\u001b[0m, in \u001b[0;36mTrainer._run_stage\u001b[1;34m(self)\u001b[0m\n\u001b[0;32m   1031\u001b[0m \u001b[39mif\u001b[39;00m \u001b[39mself\u001b[39m\u001b[39m.\u001b[39mtraining:\n\u001b[0;32m   1032\u001b[0m     \u001b[39mwith\u001b[39;00m isolate_rng():\n\u001b[1;32m-> 1033\u001b[0m         \u001b[39mself\u001b[39;49m\u001b[39m.\u001b[39;49m_run_sanity_check()\n\u001b[0;32m   1034\u001b[0m     \u001b[39mwith\u001b[39;00m torch\u001b[39m.\u001b[39mautograd\u001b[39m.\u001b[39mset_detect_anomaly(\u001b[39mself\u001b[39m\u001b[39m.\u001b[39m_detect_anomaly):\n\u001b[0;32m   1035\u001b[0m         \u001b[39mself\u001b[39m\u001b[39m.\u001b[39mfit_loop\u001b[39m.\u001b[39mrun()\n",
      "File \u001b[1;32mc:\\Users\\bmidt\\AppData\\Local\\Programs\\Python\\Python310\\lib\\site-packages\\lightning\\pytorch\\trainer\\trainer.py:1064\u001b[0m, in \u001b[0;36mTrainer._run_sanity_check\u001b[1;34m(self)\u001b[0m\n\u001b[0;32m   1061\u001b[0m \u001b[39m# run eval step\u001b[39;00m\n\u001b[0;32m   1062\u001b[0m val_loop\u001b[39m.\u001b[39mrun()\n\u001b[1;32m-> 1064\u001b[0m call\u001b[39m.\u001b[39;49m_call_callback_hooks(\u001b[39mself\u001b[39;49m, \u001b[39m\"\u001b[39;49m\u001b[39mon_sanity_check_end\u001b[39;49m\u001b[39m\"\u001b[39;49m)\n\u001b[0;32m   1066\u001b[0m \u001b[39m# reset logger connector\u001b[39;00m\n\u001b[0;32m   1067\u001b[0m \u001b[39mself\u001b[39m\u001b[39m.\u001b[39m_logger_connector\u001b[39m.\u001b[39mreset_results()\n",
      "File \u001b[1;32mc:\\Users\\bmidt\\AppData\\Local\\Programs\\Python\\Python310\\lib\\site-packages\\lightning\\pytorch\\trainer\\call.py:208\u001b[0m, in \u001b[0;36m_call_callback_hooks\u001b[1;34m(trainer, hook_name, monitoring_callbacks, *args, **kwargs)\u001b[0m\n\u001b[0;32m    206\u001b[0m     \u001b[39mif\u001b[39;00m callable(fn):\n\u001b[0;32m    207\u001b[0m         \u001b[39mwith\u001b[39;00m trainer\u001b[39m.\u001b[39mprofiler\u001b[39m.\u001b[39mprofile(\u001b[39mf\u001b[39m\u001b[39m\"\u001b[39m\u001b[39m[Callback]\u001b[39m\u001b[39m{\u001b[39;00mcallback\u001b[39m.\u001b[39mstate_key\u001b[39m}\u001b[39;00m\u001b[39m.\u001b[39m\u001b[39m{\u001b[39;00mhook_name\u001b[39m}\u001b[39;00m\u001b[39m\"\u001b[39m):\n\u001b[1;32m--> 208\u001b[0m             fn(trainer, trainer\u001b[39m.\u001b[39mlightning_module, \u001b[39m*\u001b[39margs, \u001b[39m*\u001b[39m\u001b[39m*\u001b[39mkwargs)\n\u001b[0;32m    210\u001b[0m \u001b[39mif\u001b[39;00m pl_module:\n\u001b[0;32m    211\u001b[0m     \u001b[39m# restore current_fx when nested context\u001b[39;00m\n\u001b[0;32m    212\u001b[0m     pl_module\u001b[39m.\u001b[39m_current_fx_name \u001b[39m=\u001b[39m prev_fx_name\n",
      "File \u001b[1;32mc:\\Users\\bmidt\\AppData\\Local\\Programs\\Python\\Python310\\lib\\site-packages\\lightning\\pytorch\\callbacks\\progress\\rich_progress.py:380\u001b[0m, in \u001b[0;36mRichProgressBar.on_sanity_check_end\u001b[1;34m(self, trainer, pl_module)\u001b[0m\n\u001b[0;32m    378\u001b[0m \u001b[39mdef\u001b[39;00m \u001b[39mon_sanity_check_end\u001b[39m(\u001b[39mself\u001b[39m, trainer: \u001b[39m\"\u001b[39m\u001b[39mpl.Trainer\u001b[39m\u001b[39m\"\u001b[39m, pl_module: \u001b[39m\"\u001b[39m\u001b[39mpl.LightningModule\u001b[39m\u001b[39m\"\u001b[39m) \u001b[39m-\u001b[39m\u001b[39m>\u001b[39m \u001b[39mNone\u001b[39;00m:\n\u001b[0;32m    379\u001b[0m     \u001b[39mif\u001b[39;00m \u001b[39mself\u001b[39m\u001b[39m.\u001b[39mprogress \u001b[39mis\u001b[39;00m \u001b[39mnot\u001b[39;00m \u001b[39mNone\u001b[39;00m:\n\u001b[1;32m--> 380\u001b[0m         \u001b[39massert\u001b[39;00m \u001b[39mself\u001b[39m\u001b[39m.\u001b[39mval_sanity_progress_bar_id \u001b[39mis\u001b[39;00m \u001b[39mnot\u001b[39;00m \u001b[39mNone\u001b[39;00m\n\u001b[0;32m    381\u001b[0m         \u001b[39mself\u001b[39m\u001b[39m.\u001b[39mprogress\u001b[39m.\u001b[39mupdate(\u001b[39mself\u001b[39m\u001b[39m.\u001b[39mval_sanity_progress_bar_id, advance\u001b[39m=\u001b[39m\u001b[39m0\u001b[39m, visible\u001b[39m=\u001b[39m\u001b[39mFalse\u001b[39;00m)\n\u001b[0;32m    382\u001b[0m     \u001b[39mself\u001b[39m\u001b[39m.\u001b[39mrefresh()\n",
      "\u001b[1;31mAssertionError\u001b[0m: "
     ]
    }
   ],
   "source": [
    "import deeplay.activelearning as al\n",
    "# Creating an active learning dataset\n",
    "\n",
    "torch_dataset = torch.utils.data.TensorDataset(\n",
    "    torch.tensor(np.vstack([cluster1, cluster2]), dtype=torch.float32),\n",
    "    torch.tensor([0] * 100 + [1] * 100, dtype=torch.float32)\n",
    ")\n",
    "dataset = al.ActiveLearningDataset(torch_dataset)\n",
    "\n",
    "# Creating an active learning model\n",
    "al_model = al.UncertaintyStrategy(classifier, criterion=al.Entropy(), train_pool=dataset, batch_size=8).build()\n",
    "\n",
    "\n",
    "# Initialize the dataset\n",
    "dataset.annotate_random(16)\n",
    "\n",
    "\n",
    "for iter in range(10):\n",
    "    trainer = dl.Trainer(max_epochs=10)\n",
    "    trainer.fit(al_model)\n",
    "\n",
    "    # Update the dataset\n",
    "    al_model.query_and_update(10)\n",
    "    al_model.reset_model()\n",
    "\n"
   ]
  }
 ],
 "metadata": {
  "kernelspec": {
   "display_name": "Python 3",
   "language": "python",
   "name": "python3"
  },
  "language_info": {
   "codemirror_mode": {
    "name": "ipython",
    "version": 3
   },
   "file_extension": ".py",
   "mimetype": "text/x-python",
   "name": "python",
   "nbconvert_exporter": "python",
   "pygments_lexer": "ipython3",
   "version": "3.10.7"
  }
 },
 "nbformat": 4,
 "nbformat_minor": 2
}
